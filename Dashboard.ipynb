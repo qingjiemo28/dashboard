{
 "cells": [
  {
   "cell_type": "markdown",
   "metadata": {},
   "source": [
    "# COVID-19 Trend Tracker"
   ]
  },
  {
   "cell_type": "markdown",
   "metadata": {},
   "source": [
    "This dashboard displays COVID-19 data in an interactive manner. The graph displays the number of new cases and tests over time. You can choose to view this data on either a linear or logarithmic by selecting the desired option under \"Scale\". This allows for a more nuanced exploration of the data trends, The \"Data Column\" dropdown menu allows you to switch between viewing new cases or test data.\n",
    "\n",
    "Click the \"Refresh Data\" button to make sure you're looking at the most recent data.This button fetches the latest data from the API and updates the graph accordingly. If the API connection fails, the graph will shift to using the most current available local data."
   ]
  },
  {
   "cell_type": "code",
   "execution_count": null,
   "metadata": {},
   "outputs": [],
   "source": [
    "from IPython.display import clear_output\n",
    "import ipywidgets as wdg\n",
    "import pandas as pd\n",
    "import numpy as np\n",
    "import matplotlib.pyplot as plt\n",
    "import json\n",
    "from uk_covid19 import Cov19API"
   ]
  },
  {
   "cell_type": "code",
   "execution_count": null,
   "metadata": {},
   "outputs": [],
   "source": [
    "%matplotlib inline\n",
    "# make figures larger\n",
    "plt.rcParams['figure.dpi'] = 100"
   ]
  },
  {
   "cell_type": "code",
   "execution_count": null,
   "metadata": {},
   "outputs": [],
   "source": [
    "# open the 'data.json' file and load its contents into 'jsondata'.\n",
    "with open(\"data.json\", \"rt\") as INFILE:\n",
    "    jsondata = json.load(INFILE)\n"
   ]
  },
  {
   "cell_type": "code",
   "execution_count": null,
   "metadata": {},
   "outputs": [],
   "source": [
    "def parse_date(datestring):#parse_date function\n",
    "    return pd.to_datetime(datestring, format=\"%Y-%m-%d\")\n",
    "\n",
    "def wrangle_data(rawdata):#create a DataFrame with new COVID cases and tests by date.\n",
    "    datalist = rawdata['data']\n",
    "    dates = [dictionary['date'] for dictionary in datalist]\n",
    "    dates.sort()\n",
    "    startdate = parse_date(dates[0])\n",
    "    enddate = parse_date(dates[-1])\n",
    "    # create a DataFrame with dates\n",
    "    index = pd.date_range(startdate, enddate, freq='D')\n",
    "    casetestdf = pd.DataFrame(index=index, columns=['newCases', 'tests'])\n",
    "    for entry in datalist:# fill the DataFrame with case and test data\n",
    "        date = parse_date(entry['date'])\n",
    "        for column in ['newCases', 'tests']:\n",
    "            if pd.isna(casetestdf.loc[date, column]):\n",
    "                value = (float(entry[column]) if entry[column] != None else 0.0)\n",
    "                casetestdf.loc[date, column] = value\n",
    "    return casetestdf\n",
    "\n",
    "df = wrangle_data(jsondata) #initialize df"
   ]
  },
  {
   "cell_type": "code",
   "execution_count": null,
   "metadata": {},
   "outputs": [],
   "source": [
    "def access_api():#access the API\n",
    "    filters = [\n",
    "        'areaType=nation',\n",
    "        'areaName=England'\n",
    "    ]\n",
    "    structure = {\n",
    "        \"date\": \"date\",\n",
    "        \"newCases\": \"newCasesBySpecimenDateRollingSum\",\n",
    "        \"tests\": \"uniquePeopleTestedBySpecimenDateRollingSum\"\n",
    "    }\n",
    "    \n",
    "    try:\n",
    "        api = Cov19API(filters=filters, structure=structure)\n",
    "        data = api.get_json()\n",
    "        return data  # If successful, return the data\n",
    "    except Exception as e:#if API access fails and return None\n",
    "        print(f\"An error occurred while fetching data from the API: {e}\")\n",
    "        return None  # Return None to indicate that the fetch failed"
   ]
  },
  {
   "cell_type": "code",
   "execution_count": null,
   "metadata": {},
   "outputs": [],
   "source": [
    "def api_button_callback(button):\n",
    "    global df#global df variable\n",
    "    try:# try to get data from the API\n",
    "        apidata = access_api()\n",
    "        if apidata is not None:  # check if API call was successful\n",
    "            df = wrangle_data(apidata)\n",
    "            refresh_graph()# update the graph\n",
    "            button.icon = \"check\"# show success icon on button\n",
    "        else:   # if API call failed, use the local json data\n",
    "            df = wrangle_data(jsondata)\n",
    "            refresh_graph()            \n",
    "            button.icon = \"times\"# show failure icon on button\n",
    "            print(\"Failed to fetch data from the API. Using canned data.\\nThe 'canned' data are not overwritten and nothing crashes\")\n",
    "    except Exception as e:\n",
    "        button.icon = \"times\"\n",
    "        print(f\"Using canned data.\\nThe 'canned' data are not overwritten and nothing crashes: {e}\")\n",
    "    finally:\n",
    "        pass\n",
    "\n",
    "# Create a button for updating data\n",
    "apibutton=wdg.Button(\n",
    "    description='Refresh Data', # text on the button\n",
    "    disabled=False,\n",
    "    button_style='info', #color\n",
    "    tooltip=\"Click to refresh data\",\n",
    "    icon='sync-alt'\n",
    ")\n",
    "\n",
    "# Link the button to the api_button_callback\n",
    "apibutton.on_click(api_button_callback)\n",
    "display(apibutton)\n"
   ]
  },
  {
   "cell_type": "code",
   "execution_count": null,
   "metadata": {},
   "outputs": [],
   "source": [
    "\n",
    "def df_graph(gcol, gscale):#  Function to plot the graph\n",
    "    if gscale == 'linear':\n",
    "        logscale = False\n",
    "    else:\n",
    "        logscale = True\n",
    "    if len(gcol)>0:\n",
    "        df[[gcol]].plot(kind='line', logy=logscale)  \n",
    "        plt.show() \n",
    "    else:\n",
    "        print(\"Selected data column is not in the DataFrame or no column is selected.\")\n",
    "\n",
    "\n",
    "#select data column for plotting\n",
    "series = wdg.Dropdown(\n",
    "    options=['newCases', 'tests'],\n",
    "    value='newCases',\n",
    "    description='Data Column:',\n",
    "    disabled=False\n",
    ")\n",
    "#buttons to select scale type\n",
    "scale = wdg.RadioButtons(\n",
    "    options=['linear', 'log'],\n",
    "    description='Scale:',\n",
    "    disabled=False\n",
    ")\n",
    "\n",
    "controls = wdg.HBox([series, scale])\n",
    "graph = wdg.interactive_output(df_graph, {'gcol': series, 'gscale': scale})# Create an interactive graph output\n",
    "display(controls,graph)\n",
    "\n",
    "def refresh_graph():# Function to force the graph to update\n",
    "    current_scale = scale.value\n",
    "    other_scale = 'linear' if current_scale == 'log' else 'log'\n",
    "    scale.value = other_scale  \n",
    "    scale.value = current_scale  "
   ]
  }
 ],
 "metadata": {
  "kernelspec": {
   "display_name": "Python 3 (ipykernel)",
   "language": "python",
   "name": "python3"
  },
  "language_info": {
   "codemirror_mode": {
    "name": "ipython",
    "version": 3
   },
   "file_extension": ".py",
   "mimetype": "text/x-python",
   "name": "python",
   "nbconvert_exporter": "python",
   "pygments_lexer": "ipython3",
   "version": "3.11.5"
  }
 },
 "nbformat": 4,
 "nbformat_minor": 4
}
